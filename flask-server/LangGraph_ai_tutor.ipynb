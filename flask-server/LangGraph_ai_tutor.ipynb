{
 "cells": [
  {
   "cell_type": "code",
   "execution_count": 7,
   "metadata": {},
   "outputs": [],
   "source": [
    "import os\n",
    "from dotenv import load_dotenv\n",
    "load_dotenv()\n",
    "GOOGLE_API_KEY = os.getenv(\"GOOGLE_API_KEY\")\n",
    "GOOGLE_MODEL_NAME = os.getenv(\"GOOGLE_MODEL_NAME\", \"gemini-pro\") \n",
    "\n",
    "from langchain_google_genai import ChatGoogleGenerativeAI"
   ]
  },
  {
   "cell_type": "code",
   "execution_count": 8,
   "metadata": {},
   "outputs": [],
   "source": [
    "from typing_extensions import TypedDict\n",
    "from langgraph.graph import StateGraph, START, END\n",
    "from langgraph.checkpoint.memory import MemorySaver\n",
    "from IPython.display import Image, display\n",
    "\n",
    "from langchain_core.tools import tool\n",
    "from langgraph.prebuilt import ToolNode\n",
    "from langchain_core.messages import AnyMessage, HumanMessage, AIMessage, ChatMessage\n",
    "\n"
   ]
  },
  {
   "cell_type": "code",
   "execution_count": 9,
   "metadata": {},
   "outputs": [],
   "source": [
    "from langchain.document_loaders import TextLoader\n",
    "from langchain.text_splitter import RecursiveCharacterTextSplitter\n",
    "import os\n",
    "\n",
    "def load_document_content(file_path):\n",
    "    try:\n",
    "        # Load documents from the file using TextLoader\n",
    "        loader = TextLoader(file_path)\n",
    "        documents = loader.load()\n",
    "\n",
    "        # Split text into smaller chunks\n",
    "        text_splitter = RecursiveCharacterTextSplitter(chunk_size=1000, chunk_overlap=200)\n",
    "        docs = text_splitter.split_documents(documents)\n",
    "\n",
    "        # Concatenate the chunks into a single context string\n",
    "        context = \"\\n\".join([doc.page_content for doc in docs])\n",
    "        return context\n",
    "    except Exception as e:\n",
    "        return f\"Error loading document content: {e}\"\n",
    "\n",
    "file_name = 'topic_material.txt'\n",
    "file_path = os.path.join(\"data\", file_name)\n",
    "context = load_document_content(file_path)\n",
    "\n"
   ]
  },
  {
   "cell_type": "code",
   "execution_count": 10,
   "metadata": {},
   "outputs": [
    {
     "data": {
      "text/plain": [
       "'Topic: Polymorphism in Java, Abstract classes, Interfaces\\nIn the previous lectures you learned how to create and use new classes (data abstraction), and how to derive a class from an existing class (inheritance). In this lecture we will learn about Polymorphism, which is the third essential feature of OOP programming. While the inheritance promotes reusability, the polymorphism allows developers to write code that does not depend on a specific type of objects. Polymorphic behavior In the BasePlusCommisionEmployee\\tCommissionEmployee example, you noticed that method toString() behaved differently when we applied that method to different objects (CommissionEmployee and BasePlusCommisionEmployee). When a method behaves differently when itâ€™s applied to different objects, this is called a polymorphic behavior. In a large number of problems there is always a situation, in which for a given entity you may define a generic behavior, and then\\nredefine it for more specialized entities that represent more specific set of objects. Abstract classes The most typical example that many authors use to illustrate the polymorphism is the hierarchy of shapes. Every specific shape such as a line, a rectangle and an oval must have a drawing behavior. The classes that represent those shapes must contain a method that draws the individual shape. If we consider only the set of two-dimensional shapes, then all those classes should also contain properties that describe the coordinates and the dimensions of each shape. To achieve reusability is better to start the hierarchy of two-dimensional shapes with a superclass that represents the most general characteristics of shapes and derive all other specific classes from that superclass. The only problem that may arise here is: What implementation should we provide for the drawing method of the superclass? Letâ€™s name the superclass Shape. Java provides a special construction called abstract\\nproblem that may arise here is: What implementation should we provide for the drawing method of the superclass? Letâ€™s name the superclass Shape. Java provides a special construction called abstract classes that can be used to describe incomplete features. An abstract class is an incomplete Java class. It may contain methods with a complete implementation. But any abstract class must contain an abstract method, which means a method with no implementation. For example the following class is declared abstract and contains an abstract method called drawShape: import java.awt.Graphics; //definition of abstract superclass Shape public abstract class Shape { protected int x1, y1 , x2, y2; public void setCoordinates(int x1, int y1, int x2, int y2) { this.x1=x1; this.y1=y1; this.x2=x2; this.y2=y2; } //abstract method public abstract void drawShape(Graphics g); } // end of Shape The drawShape method has no implementation. The class Line derives from class Shape: import java.awt.*;\\nthis.y2=y2; } //abstract method public abstract void drawShape(Graphics g); } // end of Shape The drawShape method has no implementation. The class Line derives from class Shape: import java.awt.*; //definition of class Line public class Line extends Shape {\\n//no argument constructor public Line() {setCoordinates(0,0,0,0);} //four - constructor public Line(int x1, int y1, int x2, int y2) { setCoordinates(x1, y1, x2, y2); } //override the abstract method public void drawShape(Graphics g) { g.setColor(Color.blue); g.drawLine(x1,y1,x2,y2); } } // end of Line Class Line provides an implementation of drawShape. Another class, Rectangle derives from Shape and provides another implementation of drawShape method: import java.awt.*; //definition of class Rectangle public class Rectangle extends Shape { //no argument constructor public Rectangle() {setCoordinates(0,0,0,0);}\\n//constructor public Rectangle(int x1, int y1, int x2, int y2) {setCoordinates(x1, y1, x2, y2);} public void drawShape(Graphics g) { g.setColor(Color.blue); //calculate width and height int width=Math.abs(x2-x1); int height=Math.abs(y2-y1); g.fillRect(x1,y1,width,height); } } A class that tests this hierarchy of Shapes must instantiate Line objects or Rectangle objects and invoke method drawShape to draw them as in the following statements: l = new Line(x1, y1, x2, y2); r = new Rectangle(x1, y1, x2, y2);\\tr.drawShape(g);\\nl.drawShape(g); Here is an application that tests the hierarchy of shapes: import javax.swing.*; import java.awt.*; public class TestShapes extends JPanel{ public void paintComponent(Graphics g) { super.paintComponent(g); Line l = new Line(20, 20, 200, 200); Rectangle r = new Rectangle(30, 30, 300, 300); r.drawShape(g); l.drawShape(g); } public static void main(String[] args) { JFrame frame = new JFrame(); frame.setSize(500,500); TestShapes ts = new TestShapes(); frame.getContentPane().add(ts);\\nframe.setVisible(true); } } Figure 5.1 Drawing polymorphically a line and a rectangle Calling subclass methods on superclass objects Sometimes is useful to have superclass references invoke subclass methods. For example you can have: Shape s; . . s=l; s.drawShape(g); The method drawShape will draw a line because s references an object of type Line. The binding of s to the right method takes place at run- time. Providing different implementations of method drawShape in Shapesâ€™s subclasses is called polymorphism. The actual act of redefining the abstract method in subclasses is called overriding. Thus, in order to implement the polymorphism you should override abstract methods of the superclass in subclasses. Interfaces in Java Interfaces are another great feature of Java. The concept is used in other programming languages such as C++, but has certainly a better implementation in Java. When you learned about abstract classes, you noticed that an abstract class must contain at least an\\nin other programming languages such as C++, but has certainly a better implementation in Java. When you learned about abstract classes, you noticed that an abstract class must contain at least an abstract method. But abstract classes may contain methods with a complete implementation. The main use of abstract classes is in implementing polymorphism by designing a hierarchy of classes which is usually headed by an abstract superclass and letting the subclasses to implement abstract behaviors. The subclasses can inherit the public and protected members of the superclass. The most important thing in this process is that they inherit some existing implementation. Whereas this is good in some cases it might not be useful in other cases. For example most of the distributed object technologies such as CORBA and RMI use the declaration of services as the only point of contact between the client program and the server program. This brings flexibility and speeds up the development process. Java\\nas CORBA and RMI use the declaration of services as the only point of contact between the client program and the server program. This brings flexibility and speeds up the development process. Java provides a special construction called interface that allows the developers to declare a set of methods without implementation. A Java interface has the following syntax: public interface InterfaceName { // final variables declarations . . // method declarations AccessModifier abstract returnType methodName(list of parameters); . . } The first thing that you may notice is the absence of any implementation. An interface can also include constant declarations. What are interfaces used for? According to Java Language specifications interfaces are useful for: â€¢ Capturing similarities between unrelated classes\\nwithout artificially forcing a class relationship â€¢ Declaring methods that one or more classes are\\nexpected to implement â€¢ Revealing an object\\'s programming interface without revealing its class. (Objects such as these are called anonymous objects and can be useful when shipping a package of classes to other developers.) The hierarchy headed by Shapes class in the previous lecture could also be designed by using an interface instead of an abstract class: interface Shape { public abstract void drawShape(Graphics g); } The class Line must implement interface Shapes as in the following: class Line implements Shape { public void drawShape(Graphics g) { // code to draw the line } } Java allows classes to implement multiple interfaces by using a comma-separated list as in the following: public class C\\nimplements interface I1, I2,â€¦..IN { . //implementation of I1 methods . //Implementation of I2 methods . .\\nimplements interface I1, I2,â€¦..IN { . //implementation of I1 methods . //Implementation of I2 methods . .\\n} The following example uses the interface Payable to declare the getPaymentAmount method: public interface Payable { double getPaymentAmount(); // calculate payment; no implementation } Class Employee is an abstract class that implements Payable interface. As you see here, there is no implementation of getPaymentAmount method in this class: abstract class Employee implements Payable{ //instance variables private String name; //describes the name property private String sin;\\n//describes the salary property //class constructor public Employee(String n, String s) { name = n; sin = s;\\n//describes the salary property //class constructor public Employee(String n, String s) { name = n; sin = s;\\n} public String getName() // reads salary { return name; } public void setName(String n) // sets salary { name = n; } public String getSin() // reads salary { return sin; } public void setSin(String s) // sets salary { sin = s; } public String toString() { return name + \", \" + sin; } } //end of class Class Developer is a concrete subclass of Employee. The Developer class provides an implementation of getPaymentAmout method, in which it returns developerâ€™s salary: public class Developer extends Employee{ private double salary; //\\n \\nfour-argument constructor public Developer( String name, String sin, double salary ) { super( name,sin );\\n// pass to Employee constructor this.salary= salary ; // store salary } // set salary public void setSalary( double salary ) { this.salary = salary < 0.0 ? 0.0 : salary; } // return salary public double getSalary() { return salary; } // implement interface Payable method that was // abstract in superclass Employee public double getPaymentAmount() { return getSalary(); } // return String representation of Developer object public String toString() { return super.toString()+ \", monthly salary: \" +salary; } } Class Invoice, also implements Payable interface, and provides another implementation of getPaymentAmount method: public class Invoice implements Payable { private String partNumber; private String partDescription; private int quantity; private double pricePerItem; // four-argument constructor public Invoice( String part, String description, int count, double price ) { partNumber = part; partDescription = description; setQuantity( count ); // validate and store quantity\\nconstructor public Invoice( String part, String description, int count, double price ) { partNumber = part; partDescription = description; setQuantity( count ); // validate and store quantity setPricePerItem( price ); // validate and store price per item } // end four-argument Invoice constructor // set part number public void setPartNumber( String part ) { partNumber = part; } // get part number public String getPartNumber() { return partNumber; } // set description public void setPartDescription( String description ) { partDescription = description; } // get description public String getPartDescription() { return partDescription; } // set quantity public void setQuantity( int count ) { quantity = ( count < 0 ) ? 0 : count; // quantity cannot be negative } // get quantity public int getQuantity() { return quantity; } // set price per item public void setPricePerItem( double price ) { pricePerItem = ( price < 0.0 ) ? 0.0 : price; // validate price } // get price per item public double\\n{ return quantity; } // set price per item public void setPricePerItem( double price ) { pricePerItem = ( price < 0.0 ) ? 0.0 : price; // validate price } // get price per item public double getPricePerItem() { return pricePerItem; } // return String representation of Invoice object public String toString() { return \"part number: \"+ getPartNumber()+\", part description: \" + getPartDescription() +\", quantity: \"+ getQuantity()+ \", price per item: \" + getPricePerItem() ; } // method required to carry out contract with interface Payable public double getPaymentAmount() { return getQuantity() * getPricePerItem(); // calculate total cost } } // end class Invoice Here is an application that uses Payable interface. It creates four different objects (two invoices and two developers) and it displays the amounts for each of them. As you can see, getPaymentAmount method returns invoiceâ€™s amount or developerâ€™s salary depending on which object is being called: public class TestPayableInterface {\\nthe amounts for each of them. As you can see, getPaymentAmount method returns invoiceâ€™s amount or developerâ€™s salary depending on which object is being called: public class TestPayableInterface { public static void main( String args[] ) { // create four-element Payable array Payable pObj[] = new Payable[ 4 ]; // populate array with objects that implement Payable pObj[ 0 ] = new Invoice( \"01234\", \"256Mb RAM\", 2, 29.99 ); pObj[ 1 ] = new Invoice( \"01235\", \"Wireless card\", 4,\\n79.95 ); pObj[ 2 ] = new Developer( \"David Mitchel\", \"123-456-789\", 800.00 ); pObj[ 3 ] = new Developer( \"Carol Fisher\", \"345-123-987\", 1200.00 ); System.out.println( \"Invoices and Employees processed polymorphically:\\\\n\" ); // generically process each element in array payableObjects for ( int i=0;i<pObj.length;i++) { // output currentPayable and its appropriate payment amount System.out.println( pObj[i].toString()+ \"\\\\n\" + \"payment due: \"+ pObj[i].getPaymentAmount()) ; } // end for } // end main }'"
      ]
     },
     "execution_count": 10,
     "metadata": {},
     "output_type": "execute_result"
    }
   ],
   "source": [
    "context"
   ]
  },
  {
   "cell_type": "code",
   "execution_count": 11,
   "metadata": {},
   "outputs": [],
   "source": [
    "GREETING_PROMPT = \"\"\"\n",
    "You are an AI Tutor. You are given a topic and a subject.\n",
    "You need to create a greeting message for the student and ask them what they want to learn based on the subject and topic.\n",
    "Keep the greeting short and concise.\n",
    "\n",
    "Subject: {subject}\n",
    "Topic: {topic}\n",
    "\"\"\"\n",
    "\n",
    "QUESTION_GUARDING_PROMPT = \"\"\"\n",
    "You are an AI Tutor. Based on the content of the topic, \n",
    "you need to decide if the student's question is related to the topic.\n",
    "For educational purpose, it is ok to be related but not exactly the same topic.\n",
    "If it is, respond \"Pass\".  \n",
    "If it is not, respond \"Fail\" \n",
    "\n",
    "Student Question: {question}\n",
    "Content of the topic: {context}\n",
    "\"\"\"\n",
    "\n",
    "QUESTION_ANSWERING_PROMPT = \"\"\"\n",
    "You are an AI Tutor. You are given a question and a topic.\n",
    "You need to answer the question based on the context.\n",
    "\n",
    "Question: {question}\n",
    "Context: {context}\n",
    "\"\"\"\n",
    "\n",
    "\n"
   ]
  },
  {
   "cell_type": "code",
   "execution_count": 30,
   "metadata": {},
   "outputs": [],
   "source": [
    "from typing import TypedDict, Annotated\n",
    "from langgraph.graph.message import add_messages\n",
    "\n",
    "\n",
    "llm = ChatGoogleGenerativeAI(model=\"gemini-pro\")\n",
    "\n",
    "class AgentState(TypedDict):\n",
    "    subject: str\n",
    "    topic: str\n",
    "    context: str\n",
    "    messages: Annotated[list, add_messages]\n",
    "\n",
    "def greeting(state: AgentState):\n",
    "    subject = state[\"subject\"]\n",
    "    topic = state[\"topic\"]\n",
    "    messages = state[\"messages\"]\n",
    "\n",
    "    greeting_prompt = GREETING_PROMPT.format(subject=subject, topic=topic)\n",
    "    messages= [HumanMessage(content=greeting_prompt.format(subject=subject, topic=topic))]\n",
    "    response = llm.invoke(messages)\n",
    "    return {\"messages\": response}\n",
    "\n",
    "\n",
    "def question_guarding(state:AgentState):\n",
    "    print(\"Question guarding: \", state[\"messages\"][-1].content)\n",
    "    question = state[\"messages\"][-1].content\n",
    "    response = llm.invoke(QUESTION_GUARDING_PROMPT.format(question=question, context=context))\n",
    "    content = response.content\n",
    "    if content.startswith(\"Pass\"):\n",
    "        print(\"Pass\")\n",
    "        return \"Pass\"\n",
    "    # elif content.startswith(\"Fail:\"):\n",
    "    #     follow_up_question = content.split(\":\")[1]\n",
    "    #     # return {\"messages\": [AIMessage(content=follow_up_question)]}\n",
    "    #     # state[\"messages\"].append(AIMessage(content=follow_up_question))\n",
    "    #     return \"Fail\"\n",
    "\n",
    "    else:\n",
    "        print(\"Fail\")\n",
    "        # follow_up_question = content.split(\":\")[1]\n",
    "        # state[\"messsage\"].append(AIMessage(content=follow_up_question))\n",
    "        return \"Fail\"\n",
    "        # return {\"messages\": [HumanMessage(content=\"Check again for pass or fail question!\")]}\n",
    "\n",
    "def student_input(state:AgentState):\n",
    "    print(state[\"messages\"][-1].content)\n",
    "    return state\n",
    "\n",
    "\n",
    "def answer_question(state:AgentState):\n",
    "    # print(\"Answer the question: \", state[\"messages\"][-1].content)\n",
    "    question = state[\"messages\"][-1].content\n",
    "    response = llm.invoke(QUESTION_ANSWERING_PROMPT.format(question=question, context = context))\n",
    "    result=response.content\n",
    "    return {\"messages\": [AIMessage(content=result)]}\n",
    "\n",
    "\n"
   ]
  },
  {
   "cell_type": "code",
   "execution_count": 31,
   "metadata": {},
   "outputs": [
    {
     "data": {
      "image/jpeg": "[encoded data removed]",
      "text/plain": [
       "<IPython.core.display.Image object>"
      ]
     },
     "metadata": {},
     "output_type": "display_data"
    }
   ],
   "source": [
    "from langgraph.graph import START,END, StateGraph\n",
    "\n",
    "workflow = StateGraph(AgentState)\n",
    "\n",
    "workflow.add_node(\"greeting\", greeting)\n",
    "workflow.add_node(\"student_input\", student_input)\n",
    "# workflow.add_node(\"question_guarding\", question_guarding)\n",
    "workflow.add_node(\"answer_question\", answer_question)\n",
    "\n",
    "\n",
    "workflow.add_edge(START, \"greeting\")\n",
    "workflow.add_edge(\"greeting\", \"student_input\")\n",
    "# workflow.add_edge(\"student_input\", \"question_guarding\")\n",
    "\n",
    "workflow.add_conditional_edges(\n",
    "    \"student_input\",\n",
    "    question_guarding,\n",
    "    {\n",
    "        \"Pass\": \"answer_question\",\n",
    "        \"Fail\": \"student_input\"\n",
    "    }\n",
    ")\n",
    "\n",
    "workflow.add_edge(\"answer_question\", END)\n",
    "# workflow.add_edge(\"student_input\", \"question_guarding\")\n",
    "\n",
    "from langgraph.checkpoint.memory import MemorySaver\n",
    "\n",
    "memory = MemorySaver()\n",
    "app = workflow.compile(checkpointer=memory, interrupt_before=[\"student_input\"])\n",
    "\n",
    "from IPython.display import Image, display\n",
    "display(Image(app.get_graph().draw_mermaid_png()))\n"
   ]
  },
  {
   "cell_type": "code",
   "execution_count": 32,
   "metadata": {},
   "outputs": [
    {
     "name": "stdout",
     "output_type": "stream",
     "text": [
      "{'subject': 'Java', 'topic': 'Polymorphism in Java', 'messages': []}\n",
      "{'subject': 'Java', 'topic': 'Polymorphism in Java', 'messages': [AIMessage(content=\"Hello! Welcome to your Java tutoring session. Today, we'll be discussing polymorphism in Java. What specific aspects of polymorphism would you like to learn more about?\", additional_kwargs={}, response_metadata={'prompt_feedback': {'block_reason': 0, 'safety_ratings': []}, 'finish_reason': 'STOP', 'safety_ratings': [{'category': 'HARM_CATEGORY_SEXUALLY_EXPLICIT', 'probability': 'NEGLIGIBLE', 'blocked': False}, {'category': 'HARM_CATEGORY_HATE_SPEECH', 'probability': 'NEGLIGIBLE', 'blocked': False}, {'category': 'HARM_CATEGORY_HARASSMENT', 'probability': 'NEGLIGIBLE', 'blocked': False}, {'category': 'HARM_CATEGORY_DANGEROUS_CONTENT', 'probability': 'NEGLIGIBLE', 'blocked': False}]}, id='run-e1c59e6b-3bae-430f-8254-a5426153c094-0', usage_metadata={'input_tokens': 63, 'output_tokens': 33, 'total_tokens': 96})]}\n"
     ]
    }
   ],
   "source": [
    "# Input\n",
    "initial_input = {\"subject\":\"Java\", \"topic\": \"Polymorphism in Java\"}\n",
    "\n",
    "# Thread\n",
    "thread = {\"configurable\": {\"thread_id\": \"1\"}}\n",
    "\n",
    "# Run the graph until the first interruption\n",
    "for event in app.stream(initial_input, thread, stream_mode=\"values\"):\n",
    "    print(event)"
   ]
  },
  {
   "cell_type": "code",
   "execution_count": 33,
   "metadata": {},
   "outputs": [
    {
     "name": "stdout",
     "output_type": "stream",
     "text": [
      "Question guarding:  what is Polymorphism?\n",
      "Pass\n",
      "--State after update--\n",
      "StateSnapshot(values={'subject': 'Java', 'topic': 'Polymorphism in Java', 'messages': [AIMessage(content=\"Hello! Welcome to your Java tutoring session. Today, we'll be discussing polymorphism in Java. What specific aspects of polymorphism would you like to learn more about?\", additional_kwargs={}, response_metadata={'prompt_feedback': {'block_reason': 0, 'safety_ratings': []}, 'finish_reason': 'STOP', 'safety_ratings': [{'category': 'HARM_CATEGORY_SEXUALLY_EXPLICIT', 'probability': 'NEGLIGIBLE', 'blocked': False}, {'category': 'HARM_CATEGORY_HATE_SPEECH', 'probability': 'NEGLIGIBLE', 'blocked': False}, {'category': 'HARM_CATEGORY_HARASSMENT', 'probability': 'NEGLIGIBLE', 'blocked': False}, {'category': 'HARM_CATEGORY_DANGEROUS_CONTENT', 'probability': 'NEGLIGIBLE', 'blocked': False}]}, id='run-e1c59e6b-3bae-430f-8254-a5426153c094-0', usage_metadata={'input_tokens': 63, 'output_tokens': 33, 'total_tokens': 96}), HumanMessage(content='what is Polymorphism?', additional_kwargs={}, response_metadata={}, id='54e6eb81-a050-460c-8ff6-026e3d396c1e')]}, next=('answer_question',), config={'configurable': {'thread_id': '1', 'checkpoint_ns': '', 'checkpoint_id': '1ef8d0ce-d89c-6a1c-8002-4efe21bb34e1'}}, metadata={'source': 'update', 'step': 2, 'writes': {'student_input': {'messages': HumanMessage(content='what is Polymorphism?', additional_kwargs={}, response_metadata={}, id='54e6eb81-a050-460c-8ff6-026e3d396c1e')}}, 'parents': {}}, created_at='2024-10-18T04:53:33.612905+00:00', parent_config={'configurable': {'thread_id': '1', 'checkpoint_ns': '', 'checkpoint_id': '1ef8d0ce-bfa4-61d4-8001-9d7953090e18'}}, tasks=(PregelTask(id='2cccdaef-035a-f819-d780-a8e12c8dcd3d', name='answer_question', path=('__pregel_pull', 'answer_question'), error=None, interrupts=(), state=None, result=None),))\n"
     ]
    }
   ],
   "source": [
    "# Get user input\n",
    "# try:\n",
    "#     user_input = input(\"Ask question:\")\n",
    "# except:\n",
    "user_input = \"what is Polymorphism?\"\n",
    "\n",
    "# We now update the state as if we are the student_input node\n",
    "app.update_state(thread, {\"messages\": HumanMessage(content=user_input)}, as_node=\"student_input\")\n",
    "\n",
    "# We can check the state\n",
    "print(\"--State after update--\")\n",
    "print(app.get_state(thread))\n",
    "\n"
   ]
  },
  {
   "cell_type": "code",
   "execution_count": 144,
   "metadata": {},
   "outputs": [
    {
     "data": {
      "text/plain": [
       "('student_input',)"
      ]
     },
     "execution_count": 144,
     "metadata": {},
     "output_type": "execute_result"
    }
   ],
   "source": [
    "# We can check the next node, showing that it is node 3 (which follows human_feedback)\n",
    "app.get_state(thread).next"
   ]
  },
  {
   "cell_type": "code",
   "execution_count": 145,
   "metadata": {},
   "outputs": [
    {
     "data": {
      "text/plain": [
       "{'subject': 'Java',\n",
       " 'topic': 'Polymorphism in Java',\n",
       " 'messages': [AIMessage(content=\"Greetings, young Java enthusiast!\\n\\nI am your AI tutor, here to guide you through the fascinating world of polymorphism.\\n\\nPolymorphism is a fundamental concept in Java that allows you to write code that can behave differently depending on the object it's working with. It's a powerful tool that can help you create flexible and reusable code.\\n\\nWhat specifically would you like to learn about polymorphism in Java? Feel free to ask me any questions you have, and I'll do my best to provide you with clear and concise answers.\\n\\nLet's dive into the world of polymorphism together!\", additional_kwargs={}, response_metadata={'prompt_feedback': {'block_reason': 0, 'safety_ratings': []}, 'finish_reason': 'STOP', 'safety_ratings': [{'category': 'HARM_CATEGORY_SEXUALLY_EXPLICIT', 'probability': 'NEGLIGIBLE', 'blocked': False}, {'category': 'HARM_CATEGORY_HATE_SPEECH', 'probability': 'NEGLIGIBLE', 'blocked': False}, {'category': 'HARM_CATEGORY_HARASSMENT', 'probability': 'NEGLIGIBLE', 'blocked': False}, {'category': 'HARM_CATEGORY_DANGEROUS_CONTENT', 'probability': 'NEGLIGIBLE', 'blocked': False}]}, id='run-173bd643-85d6-4dcc-806d-1bb7e6824eb5-0', usage_metadata={'input_tokens': 55, 'output_tokens': 120, 'total_tokens': 175}),\n",
       "  HumanMessage(content='what is inheritance?', additional_kwargs={}, response_metadata={}, id='eb8f326f-ad56-4fb4-a78e-6e40def44cd7')]}"
      ]
     },
     "execution_count": 145,
     "metadata": {},
     "output_type": "execute_result"
    }
   ],
   "source": [
    "app.get_state(thread).values\n"
   ]
  },
  {
   "cell_type": "code",
   "execution_count": 34,
   "metadata": {},
   "outputs": [
    {
     "name": "stdout",
     "output_type": "stream",
     "text": [
      "================================\u001b[1m Human Message \u001b[0m=================================\n",
      "\n",
      "what is Polymorphism?\n",
      "==================================\u001b[1m Ai Message \u001b[0m==================================\n",
      "\n",
      "Polymorphism is the ability of an object to take on multiple forms. In Java, polymorphism is achieved through inheritance and interfaces.\n",
      "\n",
      "When a subclass inherits from a superclass, it can override methods of the superclass. This means that the subclass can provide its own implementation of the method, which can be different from the implementation in the superclass.\n",
      "\n",
      "Interfaces are another way to achieve polymorphism in Java. An interface defines a set of methods that a class must implement. A class can implement multiple interfaces, and each interface can define its own set of methods.\n",
      "\n",
      "Polymorphism is a powerful tool that can be used to make code more flexible and reusable. By using polymorphism, you can write code that can work with different types of objects without having to rewrite the code for each type of object.\n"
     ]
    }
   ],
   "source": [
    "for event in app.stream(None, thread, stream_mode=\"values\"):\n",
    "    # print(event)\n",
    "    event[\"messages\"][-1].pretty_print()"
   ]
  }
 ],
 "metadata": {
  "kernelspec": {
   "display_name": ".venv",
   "language": "python",
   "name": "python3"
  },
  "language_info": {
   "codemirror_mode": {
    "name": "ipython",
    "version": 3
   },
   "file_extension": ".py",
   "mimetype": "text/x-python",
   "name": "python",
   "nbconvert_exporter": "python",
   "pygments_lexer": "ipython3",
   "version": "3.12.6"
  }
 },
 "nbformat": 4,
 "nbformat_minor": 2
}
